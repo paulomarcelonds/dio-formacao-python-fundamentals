{
 "cells": [
  {
   "cell_type": "code",
   "execution_count": 1,
   "id": "27673057",
   "metadata": {},
   "outputs": [
    {
     "name": "stdout",
     "output_type": "stream",
     "text": [
      "300\n"
     ]
    }
   ],
   "source": [
    "saldo = 300\n",
    "print(saldo)"
   ]
  },
  {
   "cell_type": "code",
   "execution_count": null,
   "id": "76624159",
   "metadata": {},
   "outputs": [
    {
     "name": "stdout",
     "output_type": "stream",
     "text": [
      "200\n"
     ]
    }
   ],
   "source": [
    "#atribuição simples\n",
    "saldo = 300\n",
    "saldo = 200\n",
    "print(saldo)"
   ]
  },
  {
   "cell_type": "code",
   "execution_count": 4,
   "id": "7b8d1bc7",
   "metadata": {},
   "outputs": [
    {
     "name": "stdout",
     "output_type": "stream",
     "text": [
      "700\n"
     ]
    }
   ],
   "source": [
    "#atribuição de adição\n",
    "saldo = 500\n",
    "saldo += 200\n",
    "print(saldo)"
   ]
  },
  {
   "cell_type": "code",
   "execution_count": 5,
   "id": "c27f7d86",
   "metadata": {},
   "outputs": [
    {
     "name": "stdout",
     "output_type": "stream",
     "text": [
      "300\n"
     ]
    }
   ],
   "source": [
    "#atribuição de subtração\n",
    "saldo = 500\n",
    "saldo -= 200\n",
    "print(saldo)"
   ]
  },
  {
   "cell_type": "code",
   "execution_count": 7,
   "id": "a98535c8",
   "metadata": {},
   "outputs": [
    {
     "name": "stdout",
     "output_type": "stream",
     "text": [
      "1000\n"
     ]
    }
   ],
   "source": [
    "#atribuição de multiplicação\n",
    "saldo = 500\n",
    "saldo *= 2\n",
    "print(saldo)\n"
   ]
  },
  {
   "cell_type": "code",
   "execution_count": 8,
   "id": "f543ed19",
   "metadata": {},
   "outputs": [
    {
     "name": "stdout",
     "output_type": "stream",
     "text": [
      "250.0\n"
     ]
    }
   ],
   "source": [
    "#atribuição de divisão\n",
    "saldo = 500\n",
    "saldo /= 2\n",
    "print(saldo)\n"
   ]
  },
  {
   "cell_type": "code",
   "execution_count": 9,
   "id": "3b177d27",
   "metadata": {},
   "outputs": [
    {
     "name": "stdout",
     "output_type": "stream",
     "text": [
      "250\n"
     ]
    }
   ],
   "source": [
    "#atribuição de divisão inteira\n",
    "saldo = 500\n",
    "saldo //= 2\n",
    "print(saldo)\n"
   ]
  },
  {
   "cell_type": "code",
   "execution_count": 10,
   "id": "d18fe506",
   "metadata": {},
   "outputs": [
    {
     "name": "stdout",
     "output_type": "stream",
     "text": [
      "100\n"
     ]
    }
   ],
   "source": [
    "#atribuição de resto da divisão\n",
    "saldo = 500\n",
    "saldo %= 200\n",
    "print(saldo)\n"
   ]
  },
  {
   "cell_type": "code",
   "execution_count": 11,
   "id": "7a819c04",
   "metadata": {},
   "outputs": [
    {
     "name": "stdout",
     "output_type": "stream",
     "text": [
      "250000\n"
     ]
    }
   ],
   "source": [
    "#atribuição de exponenciação\n",
    "saldo = 500\n",
    "saldo **= 2\n",
    "print(saldo)\n"
   ]
  },
  {
   "cell_type": "code",
   "execution_count": 12,
   "id": "f8e0f7db",
   "metadata": {},
   "outputs": [
    {
     "name": "stdout",
     "output_type": "stream",
     "text": [
      "100\n"
     ]
    }
   ],
   "source": [
    "#atribuição de módulo\n",
    "saldo = 500\n",
    "saldo %= 200\n",
    "print(saldo)\n"
   ]
  },
  {
   "cell_type": "code",
   "execution_count": null,
   "id": "6a264b49",
   "metadata": {},
   "outputs": [],
   "source": []
  }
 ],
 "metadata": {
  "kernelspec": {
   "display_name": "Python 3",
   "language": "python",
   "name": "python3"
  },
  "language_info": {
   "codemirror_mode": {
    "name": "ipython",
    "version": 3
   },
   "file_extension": ".py",
   "mimetype": "text/x-python",
   "name": "python",
   "nbconvert_exporter": "python",
   "pygments_lexer": "ipython3",
   "version": "3.12.3"
  }
 },
 "nbformat": 4,
 "nbformat_minor": 5
}
