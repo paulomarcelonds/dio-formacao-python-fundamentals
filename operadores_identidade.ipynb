{
 "cells": [
  {
   "cell_type": "code",
   "execution_count": 1,
   "id": "0cc6fe20",
   "metadata": {},
   "outputs": [
    {
     "name": "stdout",
     "output_type": "stream",
     "text": [
      "True\n"
     ]
    }
   ],
   "source": [
    "# operador usado é o 'IS' para verdadeiro\n",
    "saldo = 200\n",
    "limite = 200\n",
    "\n",
    "print(saldo is limite)"
   ]
  },
  {
   "cell_type": "code",
   "execution_count": 2,
   "id": "dc769550",
   "metadata": {},
   "outputs": [
    {
     "name": "stdout",
     "output_type": "stream",
     "text": [
      "False\n"
     ]
    }
   ],
   "source": [
    "nome = 'Bruno'\n",
    "endereco = 'Vila Boas, 142'\n",
    "\n",
    "print(nome is endereco)"
   ]
  },
  {
   "cell_type": "code",
   "execution_count": 3,
   "id": "9c69c42b",
   "metadata": {},
   "outputs": [
    {
     "name": "stdout",
     "output_type": "stream",
     "text": [
      "True\n"
     ]
    }
   ],
   "source": [
    "# operador 'IS NOT'\n",
    "\n",
    "saldo = 300\n",
    "limite = 200\n",
    "\n",
    "print(saldo is not limite)"
   ]
  }
 ],
 "metadata": {
  "kernelspec": {
   "display_name": "Python 3",
   "language": "python",
   "name": "python3"
  },
  "language_info": {
   "codemirror_mode": {
    "name": "ipython",
    "version": 3
   },
   "file_extension": ".py",
   "mimetype": "text/x-python",
   "name": "python",
   "nbconvert_exporter": "python",
   "pygments_lexer": "ipython3",
   "version": "3.12.3"
  }
 },
 "nbformat": 4,
 "nbformat_minor": 5
}
