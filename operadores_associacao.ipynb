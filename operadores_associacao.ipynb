{
 "cells": [
  {
   "cell_type": "code",
   "execution_count": 6,
   "id": "a7125f86",
   "metadata": {},
   "outputs": [
    {
     "name": "stdout",
     "output_type": "stream",
     "text": [
      "False\n",
      "True\n",
      "False\n"
     ]
    }
   ],
   "source": [
    "# operador de associacao 'IN'\n",
    "\n",
    "frutas = ['laranja', 'banana', 'goiaba']\n",
    "print('maça' in frutas)\n",
    "print('banana' in frutas)\n",
    "print('Goiaba' in frutas)"
   ]
  },
  {
   "cell_type": "code",
   "execution_count": 7,
   "id": "063bd56c",
   "metadata": {},
   "outputs": [
    {
     "name": "stdout",
     "output_type": "stream",
     "text": [
      "True\n",
      "False\n",
      "True\n"
     ]
    }
   ],
   "source": [
    "# operador de associacao 'NOT IN'\n",
    "\n",
    "frutas = ['laranja', 'banana', 'goiaba']\n",
    "print('maça'  not in frutas)\n",
    "print('banana'  not in frutas)\n",
    "print('Goiaba' not in frutas)"
   ]
  },
  {
   "cell_type": "code",
   "execution_count": null,
   "id": "cb2e1699",
   "metadata": {},
   "outputs": [],
   "source": []
  }
 ],
 "metadata": {
  "kernelspec": {
   "display_name": "Python 3",
   "language": "python",
   "name": "python3"
  },
  "language_info": {
   "codemirror_mode": {
    "name": "ipython",
    "version": 3
   },
   "file_extension": ".py",
   "mimetype": "text/x-python",
   "name": "python",
   "nbconvert_exporter": "python",
   "pygments_lexer": "ipython3",
   "version": "3.12.3"
  }
 },
 "nbformat": 4,
 "nbformat_minor": 5
}
