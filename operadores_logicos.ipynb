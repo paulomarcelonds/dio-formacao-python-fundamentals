{
 "cells": [
  {
   "cell_type": "markdown",
   "id": "b109d412",
   "metadata": {},
   "source": [
    "# Carregando as variáveis"
   ]
  },
  {
   "cell_type": "code",
   "execution_count": 2,
   "id": "085a19f6",
   "metadata": {},
   "outputs": [],
   "source": [
    "saldo = 1000\n",
    "saque = 500\n",
    "limite = 200\n",
    "conta_especial = True"
   ]
  },
  {
   "cell_type": "code",
   "execution_count": 9,
   "id": "cd8a790c",
   "metadata": {},
   "outputs": [
    {
     "name": "stdout",
     "output_type": "stream",
     "text": [
      "True\n",
      "False\n"
     ]
    }
   ],
   "source": [
    "#Tabela verdade para operador AND\n",
    "print(True and True)\n",
    "print(True and False)"
   ]
  },
  {
   "cell_type": "code",
   "execution_count": 10,
   "id": "cbb53029",
   "metadata": {},
   "outputs": [
    {
     "name": "stdout",
     "output_type": "stream",
     "text": [
      "True\n",
      "True\n"
     ]
    }
   ],
   "source": [
    "# Tabela verdade para operador OR\n",
    "print(True or True)\n",
    "print(True or False)"
   ]
  }
 ],
 "metadata": {
  "kernelspec": {
   "display_name": "Python 3",
   "language": "python",
   "name": "python3"
  },
  "language_info": {
   "codemirror_mode": {
    "name": "ipython",
    "version": 3
   },
   "file_extension": ".py",
   "mimetype": "text/x-python",
   "name": "python",
   "nbconvert_exporter": "python",
   "pygments_lexer": "ipython3",
   "version": "3.12.3"
  }
 },
 "nbformat": 4,
 "nbformat_minor": 5
}
