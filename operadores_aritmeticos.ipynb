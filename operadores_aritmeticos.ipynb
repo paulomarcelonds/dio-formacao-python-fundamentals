{
 "cells": [
  {
   "cell_type": "markdown",
   "id": "0fd23402",
   "metadata": {},
   "source": [
    "# Carregando as variáveis para as operações"
   ]
  },
  {
   "cell_type": "code",
   "execution_count": 6,
   "id": "58802dcb",
   "metadata": {},
   "outputs": [],
   "source": [
    "x = 5\n",
    "y = 10"
   ]
  },
  {
   "cell_type": "code",
   "execution_count": 7,
   "id": "c6433053",
   "metadata": {},
   "outputs": [
    {
     "name": "stdout",
     "output_type": "stream",
     "text": [
      "15\n"
     ]
    }
   ],
   "source": [
    "# soma\n",
    "\n",
    "print(x + y)\n",
    "\n"
   ]
  },
  {
   "cell_type": "code",
   "execution_count": 8,
   "id": "57592514",
   "metadata": {},
   "outputs": [
    {
     "name": "stdout",
     "output_type": "stream",
     "text": [
      "-5\n"
     ]
    }
   ],
   "source": [
    "# subtração\n",
    "\n",
    "print(x - y)    "
   ]
  },
  {
   "cell_type": "code",
   "execution_count": 9,
   "id": "72437ba0",
   "metadata": {},
   "outputs": [
    {
     "name": "stdout",
     "output_type": "stream",
     "text": [
      "50\n"
     ]
    }
   ],
   "source": [
    "# multiplicação\n",
    "print(x * y)"
   ]
  },
  {
   "cell_type": "code",
   "execution_count": 10,
   "id": "0d56ff14",
   "metadata": {},
   "outputs": [
    {
     "name": "stdout",
     "output_type": "stream",
     "text": [
      "0.5\n"
     ]
    }
   ],
   "source": [
    "# divisão\n",
    "print(x / y)"
   ]
  },
  {
   "cell_type": "code",
   "execution_count": 13,
   "id": "6a7df58a",
   "metadata": {},
   "outputs": [
    {
     "name": "stdout",
     "output_type": "stream",
     "text": [
      "5\n"
     ]
    }
   ],
   "source": [
    "# resto da divisão\n",
    "print(x % y)"
   ]
  },
  {
   "cell_type": "code",
   "execution_count": 15,
   "id": "50b52342",
   "metadata": {},
   "outputs": [
    {
     "name": "stdout",
     "output_type": "stream",
     "text": [
      "9765625\n"
     ]
    }
   ],
   "source": [
    "# potência\n",
    "print(x ** y)"
   ]
  },
  {
   "cell_type": "code",
   "execution_count": 16,
   "id": "a757d1e1",
   "metadata": {},
   "outputs": [
    {
     "name": "stdout",
     "output_type": "stream",
     "text": [
      "0\n"
     ]
    }
   ],
   "source": [
    "# divisão inteira\n",
    "print(x // y)"
   ]
  }
 ],
 "metadata": {
  "kernelspec": {
   "display_name": "Python 3",
   "language": "python",
   "name": "python3"
  },
  "language_info": {
   "codemirror_mode": {
    "name": "ipython",
    "version": 3
   },
   "file_extension": ".py",
   "mimetype": "text/x-python",
   "name": "python",
   "nbconvert_exporter": "python",
   "pygments_lexer": "ipython3",
   "version": "3.12.3"
  }
 },
 "nbformat": 4,
 "nbformat_minor": 5
}
