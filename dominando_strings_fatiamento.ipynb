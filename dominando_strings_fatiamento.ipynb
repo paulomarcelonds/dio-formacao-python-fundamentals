{
  "nbformat": 4,
  "nbformat_minor": 0,
  "metadata": {
    "colab": {
      "provenance": [],
      "authorship_tag": "ABX9TyPExY6m/bsOlQpmrVQoDa7j",
      "include_colab_link": true
    },
    "kernelspec": {
      "name": "python3",
      "display_name": "Python 3"
    },
    "language_info": {
      "name": "python"
    }
  },
  "cells": [
    {
      "cell_type": "markdown",
      "metadata": {
        "id": "view-in-github",
        "colab_type": "text"
      },
      "source": [
        "<a href=\"https://colab.research.google.com/github/paulomarcelonds/dio-formacao-python-fundamentals/blob/master/dominando_strings_fatiamento.ipynb\" target=\"_parent\"><img src=\"https://colab.research.google.com/assets/colab-badge.svg\" alt=\"Open In Colab\"/></a>"
      ]
    },
    {
      "cell_type": "markdown",
      "source": [
        "## Conhecendo métodos úteis da classe string\n",
        "\n",
        "\n",
        "\n",
        "---\n",
        "\n"
      ],
      "metadata": {
        "id": "VSVhMaXwDe62"
      }
    },
    {
      "cell_type": "markdown",
      "source": [
        "**String** é uma classe em python\n",
        "\n",
        "1.  Rica em métodos\n",
        "2.  Simples de trabalhar\n",
        "3.  Possui interface amigável\n"
      ],
      "metadata": {
        "id": "x6XdyFDBEJPH"
      }
    },
    {
      "cell_type": "markdown",
      "source": [
        "**Métodos** - upper, lower e title\n",
        "\n",
        "1. upper- Todas as letras ficam em maiúscula\n",
        "2. lower - Todas as letras ficam em minúsculas\n",
        "3. title - A primeira letra fica maiúscula"
      ],
      "metadata": {
        "id": "ZsBjmDokIaMX"
      }
    },
    {
      "cell_type": "code",
      "source": [
        "nome = 'MarCElO'\n",
        "print(nome.upper())\n",
        "print(nome.lower())\n",
        "print(nome.title())"
      ],
      "metadata": {
        "colab": {
          "base_uri": "https://localhost:8080/"
        },
        "id": "BgPmwUiJIwu8",
        "outputId": "502f4594-df6d-4dc5-f87c-48a40d5af6a2"
      },
      "execution_count": 8,
      "outputs": [
        {
          "output_type": "stream",
          "name": "stdout",
          "text": [
            "MARCELO\n",
            "marcelo\n",
            "Marcelo\n"
          ]
        }
      ]
    },
    {
      "cell_type": "markdown",
      "source": [
        "##Eliminando espaços em branco\n",
        "\n",
        "\n",
        "---\n",
        "\n"
      ],
      "metadata": {
        "id": "1_8pRJvjVbcC"
      }
    },
    {
      "cell_type": "markdown",
      "source": [
        "**Imprimindo** a mensagem texto sem método."
      ],
      "metadata": {
        "id": "Im-GQLWJW6w4"
      }
    },
    {
      "cell_type": "code",
      "source": [
        "texto = '   Olá mundo, bom dia.  '\n",
        "print(texto)"
      ],
      "metadata": {
        "colab": {
          "base_uri": "https://localhost:8080/"
        },
        "id": "FCFKiD7qW-_B",
        "outputId": "9058aa39-8dac-404c-e000-bf0726d86a9f"
      },
      "execution_count": 9,
      "outputs": [
        {
          "output_type": "stream",
          "name": "stdout",
          "text": [
            "   Olá mundo, bom dia.  \n"
          ]
        }
      ]
    },
    {
      "cell_type": "markdown",
      "source": [
        "**Retirar** espaço de qualquer lugar.\n",
        "\n"
      ],
      "metadata": {
        "id": "ztUcukOwzS9q"
      }
    },
    {
      "cell_type": "code",
      "source": [
        "print(texto.strip())"
      ],
      "metadata": {
        "colab": {
          "base_uri": "https://localhost:8080/"
        },
        "id": "7vSG8gK6zSGM",
        "outputId": "224968e5-154a-40c4-b00c-963aebb1528a"
      },
      "execution_count": 11,
      "outputs": [
        {
          "output_type": "stream",
          "name": "stdout",
          "text": [
            "Olá mundo, bom dia.\n"
          ]
        }
      ]
    },
    {
      "cell_type": "markdown",
      "source": [
        "**Retirar** o espaço da da direita.\n",
        "\n"
      ],
      "metadata": {
        "id": "b7HGfElEziaA"
      }
    },
    {
      "cell_type": "code",
      "source": [
        "print(texto.rstrip())"
      ],
      "metadata": {
        "colab": {
          "base_uri": "https://localhost:8080/"
        },
        "id": "r_Iz0G_uzeN1",
        "outputId": "2ecb8686-5df2-493e-8bbd-886e9a1fb559"
      },
      "execution_count": 13,
      "outputs": [
        {
          "output_type": "stream",
          "name": "stdout",
          "text": [
            "   Olá mundo, bom dia.\n"
          ]
        }
      ]
    },
    {
      "cell_type": "markdown",
      "source": [
        "**Retirar** o espaço das esquerda."
      ],
      "metadata": {
        "id": "g3LJHKxU1v4O"
      }
    },
    {
      "cell_type": "code",
      "source": [
        "print(texto.rstrip())"
      ],
      "metadata": {
        "colab": {
          "base_uri": "https://localhost:8080/"
        },
        "id": "kAi5OwMp0hcu",
        "outputId": "2e119224-88f7-434c-c54a-d7cfb09bd730"
      },
      "execution_count": 14,
      "outputs": [
        {
          "output_type": "stream",
          "name": "stdout",
          "text": [
            "   Olá mundo, bom dia.\n"
          ]
        }
      ]
    },
    {
      "cell_type": "markdown",
      "source": [
        "##Junções e Centralizações\n",
        "\n",
        "---\n",
        "\n"
      ],
      "metadata": {
        "id": "Izi0a16U2JH9"
      }
    },
    {
      "cell_type": "code",
      "source": [],
      "metadata": {
        "id": "bomEValt2AKF"
      },
      "execution_count": null,
      "outputs": []
    }
  ]
}