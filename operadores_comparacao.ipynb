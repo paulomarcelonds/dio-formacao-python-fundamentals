{
 "cells": [
  {
   "cell_type": "code",
   "execution_count": 4,
   "id": "42ce491c",
   "metadata": {},
   "outputs": [],
   "source": [
    "saldo = 200\n",
    "deposito = 200"
   ]
  },
  {
   "cell_type": "code",
   "execution_count": 5,
   "id": "f78f162b",
   "metadata": {},
   "outputs": [
    {
     "name": "stdout",
     "output_type": "stream",
     "text": [
      "True\n"
     ]
    }
   ],
   "source": [
    "print(saque == deposito)"
   ]
  },
  {
   "cell_type": "code",
   "execution_count": 7,
   "id": "0893287f",
   "metadata": {},
   "outputs": [
    {
     "name": "stdout",
     "output_type": "stream",
     "text": [
      "False\n"
     ]
    }
   ],
   "source": [
    "print(saque != deposito)"
   ]
  },
  {
   "cell_type": "code",
   "execution_count": 8,
   "id": "6b7c5374",
   "metadata": {},
   "outputs": [
    {
     "name": "stdout",
     "output_type": "stream",
     "text": [
      "False\n"
     ]
    }
   ],
   "source": [
    "print(saldo > deposito)     "
   ]
  },
  {
   "cell_type": "code",
   "execution_count": 9,
   "id": "2434ae92",
   "metadata": {},
   "outputs": [
    {
     "name": "stdout",
     "output_type": "stream",
     "text": [
      "False\n"
     ]
    }
   ],
   "source": [
    "print(saldo < deposito) "
   ]
  },
  {
   "cell_type": "code",
   "execution_count": 10,
   "id": "73ffbd61",
   "metadata": {},
   "outputs": [
    {
     "name": "stdout",
     "output_type": "stream",
     "text": [
      "True\n"
     ]
    }
   ],
   "source": [
    "print(saldo >= deposito)     "
   ]
  },
  {
   "cell_type": "code",
   "execution_count": 11,
   "id": "4684a6a0",
   "metadata": {},
   "outputs": [
    {
     "name": "stdout",
     "output_type": "stream",
     "text": [
      "True\n"
     ]
    }
   ],
   "source": [
    "print(saldo <= deposito)     "
   ]
  }
 ],
 "metadata": {
  "kernelspec": {
   "display_name": "Python 3",
   "language": "python",
   "name": "python3"
  },
  "language_info": {
   "codemirror_mode": {
    "name": "ipython",
    "version": 3
   },
   "file_extension": ".py",
   "mimetype": "text/x-python",
   "name": "python",
   "nbconvert_exporter": "python",
   "pygments_lexer": "ipython3",
   "version": "3.12.3"
  }
 },
 "nbformat": 4,
 "nbformat_minor": 5
}
