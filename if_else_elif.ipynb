{
 "cells": [
  {
   "cell_type": "markdown",
   "id": "731ecd0d",
   "metadata": {},
   "source": [
    "Exemplo com IF"
   ]
  },
  {
   "cell_type": "markdown",
   "id": "c09ca283",
   "metadata": {},
   "source": [
    "---"
   ]
  },
  {
   "cell_type": "code",
   "execution_count": null,
   "id": "f440a019",
   "metadata": {},
   "outputs": [
    {
     "name": "stdout",
     "output_type": "stream",
     "text": [
      "não pode tirar CNH\n"
     ]
    }
   ],
   "source": [
    "idade = 18\n",
    "\n",
    "idade = int(input('informar a idade'))\n",
    "\n",
    "if idade >= 18:\n",
    "    print('pode tirar CNH')\n",
    "\n",
    "if idade < 18:\n",
    "    print('não pode tirar CNH')"
   ]
  },
  {
   "cell_type": "markdown",
   "id": "6fd5d0dc",
   "metadata": {},
   "source": [
    "Exemplo com if | else"
   ]
  },
  {
   "cell_type": "markdown",
   "id": "adccead7",
   "metadata": {},
   "source": [
    "---"
   ]
  },
  {
   "cell_type": "code",
   "execution_count": 16,
   "id": "6a7efd83",
   "metadata": {},
   "outputs": [
    {
     "name": "stdout",
     "output_type": "stream",
     "text": [
      "não pode proseguir com CH\n"
     ]
    }
   ],
   "source": [
    "idade = 18\n",
    "\n",
    "idade = int(input('digite a sua idade por favor'))\n",
    "\n",
    "if idade >= 18:\n",
    "    print('pode proseguir com CNH')\n",
    "else:\n",
    "    print('não pode proseguir com CH')"
   ]
  },
  {
   "cell_type": "markdown",
   "id": "6b0a0ece",
   "metadata": {},
   "source": [
    "Exemplo com if | else | elif"
   ]
  },
  {
   "cell_type": "markdown",
   "id": "e00fe72e",
   "metadata": {},
   "source": [
    "---"
   ]
  },
  {
   "cell_type": "code",
   "execution_count": 20,
   "id": "ec168992",
   "metadata": {},
   "outputs": [
    {
     "name": "stdout",
     "output_type": "stream",
     "text": [
      "não pode proseguir com CH\n"
     ]
    }
   ],
   "source": [
    "idade = 18\n",
    "idade_especial = 12\n",
    "\n",
    "idade = int(input('digite a sua idade por favor'))\n",
    "\n",
    "if idade >= 18:\n",
    "    print('pode proseguir com CNH')\n",
    "elif idade == idade_especial:\n",
    "    print('pode particiar de aula teorica')\n",
    "else:\n",
    "    print('não pode proseguir com CH')"
   ]
  }
 ],
 "metadata": {
  "kernelspec": {
   "display_name": "Python 3",
   "language": "python",
   "name": "python3"
  },
  "language_info": {
   "codemirror_mode": {
    "name": "ipython",
    "version": 3
   },
   "file_extension": ".py",
   "mimetype": "text/x-python",
   "name": "python",
   "nbconvert_exporter": "python",
   "pygments_lexer": "ipython3",
   "version": "3.12.3"
  }
 },
 "nbformat": 4,
 "nbformat_minor": 5
}
